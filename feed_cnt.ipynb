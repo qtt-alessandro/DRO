{
 "cells": [
  {
   "cell_type": "code",
   "execution_count": 5,
   "metadata": {},
   "outputs": [],
   "source": [
    "import numpy as np \n",
    "import cvxpy as cvx\n",
    "import pandas as pd"
   ]
  },
  {
   "cell_type": "code",
   "execution_count": 6,
   "metadata": {},
   "outputs": [],
   "source": [
    "qin = pd.read_parquet(\"data/forecast_df.par\")[\"y\"][:200].values"
   ]
  },
  {
   "cell_type": "code",
   "execution_count": 119,
   "metadata": {},
   "outputs": [],
   "source": [
    "def LMI_book(A, B, Bw, C, D, alpha):\n",
    "    # Get dimensions\n",
    "    n, _ = A.shape  # System dimension\n",
    "    _, m = B.shape  # Input dimension\n",
    "    c_dim, _ = C.shape  # Output dimension\n",
    "    _, d = Bw.shape  # Disturbance dimension\n",
    "    \n",
    "    # Define variables\n",
    "    Q = cvx.Variable((n, n), symmetric=True)\n",
    "    Y = cvx.Variable((m, n))\n",
    "    F_d = cvx.Variable()\n",
    "    BFw = cvx.vstack([np.zeros((1, d)), F_d * np.ones((1, d))])\n",
    "    cvx_Bw = Bw + BFw\n",
    "    sigma = cvx.Variable(nonneg=True)\n",
    "\n",
    "    # First LMI block\n",
    "    LMI_1 = cvx.bmat([\n",
    "        [-Q + alpha*Q, np.zeros((n, d)), Q@A.T + Y.T@B.T],\n",
    "        [np.zeros((d, n)), -alpha*np.eye(d), cvx_Bw.T],\n",
    "        [A@Q + B@Y, cvx_Bw, -Q]\n",
    "    ])\n",
    "\n",
    "    # Second LMI block\n",
    "    LMI_2 = cvx.bmat([\n",
    "        [-Q, Q@C.T + Y.T@D.T],\n",
    "        [C@Q + D@Y, -sigma*np.eye(c_dim)]\n",
    "    ])\n",
    "\n",
    "    # Define and solve the problem\n",
    "    constraints = [\n",
    "        Q >> 0,\n",
    "        LMI_1 << 0,\n",
    "        LMI_2 << 0\n",
    "    ]\n",
    "    \n",
    "    problem = cvx.Problem(cvx.Minimize(sigma), constraints=constraints)\n",
    "    problem.solve(solver=cvx.MOSEK)\n",
    "    \n",
    "    return Q.value, Y.value, sigma.value, BFw.value"
   ]
  },
  {
   "cell_type": "code",
   "execution_count": 120,
   "metadata": {},
   "outputs": [],
   "source": [
    "def grad_est(alpha, batch_num, A, B, C, D, Bw, var=0.3, eps=1e-5):\n",
    "    delta_f = []\n",
    "    Q, Y, sigma, F_dp = LMI_book(A, B, Bw, C, D, alpha)\n",
    "    for b in range(batch_num):\n",
    "        mu_k = var*2*(np.random.random_sample() - 0.5)\n",
    "        u_k = np.sign(mu_k)\n",
    "        alpha_k = max(min(alpha+mu_k, 1), eps)\n",
    "        Q_k, Y_k, sigma_k, F_dp_k = LMI_book(A, B, Bw, C, D, alpha_k)\n",
    "        delta_f.append((sigma_k - sigma)/mu_k*u_k)\n",
    "    return sum(delta_f)/batch_num"
   ]
  },
  {
   "cell_type": "code",
   "execution_count": 121,
   "metadata": {},
   "outputs": [],
   "source": [
    "import numpy as np\n",
    "\n",
    "ts = 1\n",
    "a = 20\n",
    "\n",
    "A = np.array([[1.0, 1/a],\n",
    "             [0.0, 0.0]])\n",
    "\n",
    "B = np.array([[-1/a],\n",
    "             [0.0]])\n",
    "\n",
    "B_w = np.array([[0, 1],\n",
    "               [1, 0]])\n",
    "\n",
    "C = np.array([[1.0, 0.0]])"
   ]
  },
  {
   "cell_type": "code",
   "execution_count": 127,
   "metadata": {},
   "outputs": [],
   "source": [
    "a = 20\n",
    "alpha = 0.01\n",
    "Q, Y, sigma, F_dp = LMI_book(A, B, B_w, C, D, alpha)"
   ]
  },
  {
   "cell_type": "code",
   "execution_count": 131,
   "metadata": {},
   "outputs": [
    {
     "data": {
      "text/plain": [
       "array([[20.,  1.]])"
      ]
     },
     "execution_count": null,
     "metadata": {},
     "output_type": "execute_result"
    }
   ],
   "source": [
    "K"
   ]
  },
  {
   "cell_type": "code",
   "execution_count": 129,
   "metadata": {},
   "outputs": [],
   "source": [
    "K = Y @ np.linalg.inv(Q)\n",
    "u = K @ x"
   ]
  },
  {
   "cell_type": "code",
   "execution_count": 130,
   "metadata": {},
   "outputs": [
    {
     "data": {
      "text/plain": [
       "array([[ 1.        ,  0.03953277],\n",
       "       [-0.01046723,  0.        ]])"
      ]
     },
     "execution_count": null,
     "metadata": {},
     "output_type": "execute_result"
    }
   ],
   "source": [
    "(A+B*F_dp) + B_w*np.random.normal(0, 0.2)"
   ]
  },
  {
   "cell_type": "code",
   "execution_count": null,
   "metadata": {},
   "outputs": [],
   "source": []
  }
 ],
 "metadata": {
  "language_info": {
   "name": "python"
  }
 },
 "nbformat": 4,
 "nbformat_minor": 2
}
