{
 "cells": [
  {
   "cell_type": "code",
   "execution_count": 14,
   "metadata": {},
   "outputs": [
    {
     "name": "stdout",
     "output_type": "stream",
     "text": [
      "Optimal value: 1.3256786574492994e-13\n",
      "theta: [[7.24141458e-13]]\n",
      "lambda: 8.388140135739254e-14\n"
     ]
    }
   ],
   "source": [
    "import cvxpy as cp \n",
    "import numpy as np \n",
    "\n",
    "# Problem dimensions\n",
    "m = 1       # single dimension\n",
    "N = 30      # number of samples\n",
    "Nd = 1      # dimension of constraints\n",
    "K = 1       # simplified to 1\n",
    "\n",
    "# Variables\n",
    "theta = cp.Variable((m,1))\n",
    "lambda_var = cp.Variable()\n",
    "s = cp.Variable((N,1), nonneg=True)\n",
    "gamma_i = [cp.Variable((Nd,1), nonneg=True) for i in range(N)]\n",
    "eps = cp.Parameter(nonneg=True)\n",
    "eps.value = 0.1\n",
    "constraints = []\n",
    "\n",
    "# Define a and b coefficients\n",
    "a = -0.1\n",
    "b = -0.1\n",
    "\n",
    "# Define constraint matrices/vectors - Try non-zero C\n",
    "C = np.ones(Nd)  # Changed from zeros to ones\n",
    "d = np.ones((Nd,1))\n",
    "xi_hat_para = cp.Parameter((m,N))\n",
    "\n",
    "# Objective function\n",
    "obj = cp.Minimize(lambda_var * eps + 1/N * cp.sum(s))\n",
    "#constraints += [cp.sum(theta) == 1]\n",
    "\n",
    "for i in range(N):\n",
    "    constraints += [b*theta.T + a * theta.T @ xi_hat_para[:,i] + gamma_i[i].T @ (d - C @ xi_hat_para[:,i]) <= s[i]]\n",
    "    constraints += [cp.norm(C.T @ gamma_i[i] - a * theta, \"inf\") <= lambda_var]\n",
    "    constraints += [gamma_i[i] >= 0]\n",
    "\n",
    "# Create and solve problem\n",
    "problem = cp.Problem(obj, constraints)\n",
    "xi_hat_para.value = np.random.randn(m,N)\n",
    "problem.solve(verbose=False)\n",
    "\n",
    "print(\"Optimal value:\", problem.value)\n",
    "print(\"theta:\", theta.value)\n",
    "print(\"lambda:\", lambda_var.value)"
   ]
  },
  {
   "cell_type": "code",
   "execution_count": null,
   "metadata": {},
   "outputs": [],
   "source": []
  }
 ],
 "metadata": {
  "language_info": {
   "name": "python"
  }
 },
 "nbformat": 4,
 "nbformat_minor": 2
}
